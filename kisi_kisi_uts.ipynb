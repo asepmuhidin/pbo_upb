{
  "nbformat": 4,
  "nbformat_minor": 0,
  "metadata": {
    "colab": {
      "provenance": [],
      "authorship_tag": "ABX9TyOCBbNd0Zq7ugE7JzlcCj6+",
      "include_colab_link": true
    },
    "kernelspec": {
      "name": "python3",
      "display_name": "Python 3"
    },
    "language_info": {
      "name": "python"
    }
  },
  "cells": [
    {
      "cell_type": "markdown",
      "metadata": {
        "id": "view-in-github",
        "colab_type": "text"
      },
      "source": [
        "<a href=\"https://colab.research.google.com/github/asepmuhidin/pbo_upb/blob/main/kisi_kisi_uts.ipynb\" target=\"_parent\"><img src=\"https://colab.research.google.com/assets/colab-badge.svg\" alt=\"Open In Colab\"/></a>"
      ]
    },
    {
      "cell_type": "code",
      "execution_count": 1,
      "metadata": {
        "colab": {
          "base_uri": "https://localhost:8080/"
        },
        "id": "NW1nhUqfFJvD",
        "outputId": "d0fe3652-6d89-4304-a0fa-a518545564e5"
      },
      "outputs": [
        {
          "output_type": "stream",
          "name": "stdout",
          "text": [
            "5,10,15,20,25,30,35,40,45,50,"
          ]
        }
      ],
      "source": [
        "#looping\n",
        "# Deret bilangan kelipatan 5 dari 5 sd 50\n",
        "#5,10,15,20, dst\n",
        "#range(start, end, step)\n",
        "for i in range(5,51,5):\n",
        "  print(i, end=\",\")"
      ]
    },
    {
      "cell_type": "code",
      "source": [
        "#Buatkan program untuk deret bilangan 10,100,1000,10000,100000,1000000\n",
        "#sama saja dengan 10**1, 10**2,10**3,10**4,10**5,10**6\n",
        "for i in range(1,7):\n",
        "  print(10**i, end=\",\")"
      ],
      "metadata": {
        "colab": {
          "base_uri": "https://localhost:8080/"
        },
        "id": "GpdTi8HjJERP",
        "outputId": "60b4103e-fc2f-4839-f93e-9c75e43b7683"
      },
      "execution_count": 3,
      "outputs": [
        {
          "output_type": "stream",
          "name": "stdout",
          "text": [
            "10,100,1000,10000,100000,1000000,"
          ]
        }
      ]
    },
    {
      "cell_type": "code",
      "source": [
        "##Looping menurun\n",
        "for i in range(10,-1,-1):\n",
        "  print(i, end=\",\")"
      ],
      "metadata": {
        "colab": {
          "base_uri": "https://localhost:8080/"
        },
        "id": "mEEnbLT3KMnD",
        "outputId": "a309563b-ef31-4f7f-bb63-9106b4be93bf"
      },
      "execution_count": 5,
      "outputs": [
        {
          "output_type": "stream",
          "name": "stdout",
          "text": [
            "10,9,8,7,6,5,4,3,2,1,0,"
          ]
        }
      ]
    },
    {
      "cell_type": "code",
      "source": [
        "#Membuat sebuah fungsi\n",
        "#Buat fungsi untuk menghitung luas lingkaran\n",
        "#Luas_lingkaran=3.14*r**2\n",
        "import math\n",
        "\n",
        "def luas_lingkaran(r):\n",
        "  return math.pi*r**2\n",
        "\n",
        "\n",
        "jari_lingkaran=10\n",
        "llingkaran=luas_lingkaran(jari_lingkaran)\n",
        "print(f\"Luas lingkaran dengan jari-jari {jari_lingkaran} adalah {llingkaran}\")\n"
      ],
      "metadata": {
        "colab": {
          "base_uri": "https://localhost:8080/"
        },
        "id": "jHbKcuHvKueU",
        "outputId": "f5760531-80f7-4b4f-f190-c81176e417c8"
      },
      "execution_count": 8,
      "outputs": [
        {
          "output_type": "stream",
          "name": "stdout",
          "text": [
            "Luas lingkaran dengan jari-jari 10 adalah 314.1592653589793\n"
          ]
        }
      ]
    },
    {
      "cell_type": "code",
      "source": [
        "#Buat fungsi untuk cek bilangan positif atau negatif\n",
        "#Bilangan positif adalah bilangan yg lebih besar dari nol\n",
        "#Bilangan negatif adalah bilangan yg lebih kecil dari nol\n",
        "\n",
        "def cek_bil_pos_neg(bil):\n",
        "  if bil>0 :\n",
        "    return \"Positif\"\n",
        "  elif bil<0:\n",
        "    return \"Negatif\"\n",
        "  else:\n",
        "    return \"Nol\"\n",
        "\n",
        "a,b,c=10,-9,0\n",
        "print(f\"Bilangan({a}) adalah bilangan {cek_bil_pos_neg(a)}\")\n",
        "print(f\"Bilangan({b}) adalah bilangan {cek_bil_pos_neg(b)}\")\n",
        "print(f\"Bilangan({c}) adalah bilangan {cek_bil_pos_neg(c)}\")"
      ],
      "metadata": {
        "colab": {
          "base_uri": "https://localhost:8080/"
        },
        "id": "NM8JOuhvL2Z1",
        "outputId": "a528d246-a40a-4403-947e-9ff3c9ead65c"
      },
      "execution_count": 9,
      "outputs": [
        {
          "output_type": "stream",
          "name": "stdout",
          "text": [
            "Bilangan(10) adalah bilangan Positif\n",
            "Bilangan(-9) adalah bilangan Negatif\n",
            "Bilangan(0) adalah bilangan Nol\n"
          ]
        }
      ]
    },
    {
      "cell_type": "code",
      "source": [
        "names=['Hendri','Aditya','Gunawan']\n",
        "print(names[0])\n",
        "for no,name in enumerate(names):\n",
        "  print(f\"{no}.{name}\")"
      ],
      "metadata": {
        "colab": {
          "base_uri": "https://localhost:8080/"
        },
        "id": "ftNbAo6WOhpc",
        "outputId": "a89b9fa2-d24b-4877-a868-e955aed554da"
      },
      "execution_count": 17,
      "outputs": [
        {
          "output_type": "stream",
          "name": "stdout",
          "text": [
            "Hendri\n",
            "0.Hendri\n",
            "1.Aditya\n",
            "2.Gunawan\n"
          ]
        }
      ]
    },
    {
      "cell_type": "code",
      "source": [
        "posts=[\n",
        "  {\n",
        "    \"userId\": 1,\n",
        "    \"id\": 1,\n",
        "    \"title\": \"sunt aut facere repellat provident occaecati excepturi optio reprehenderit\",\n",
        "    \"body\": \"quia et suscipit\\nsuscipit recusandae consequuntur expedita et cum\\nreprehenderit molestiae ut ut quas totam\\nnostrum rerum est autem sunt rem eveniet architecto\"\n",
        "  },\n",
        "  {\n",
        "    \"userId\": 1,\n",
        "    \"id\": 2,\n",
        "    \"title\": \"qui est esse\",\n",
        "    \"body\": \"est rerum tempore vitae\\nsequi sint nihil reprehenderit dolor beatae ea dolores neque\\nfugiat blanditiis voluptate porro vel nihil molestiae ut reiciendis\\nqui aperiam non debitis possimus qui neque nisi nulla\"\n",
        "  },\n",
        "  {\n",
        "    \"userId\": 1,\n",
        "    \"id\": 3,\n",
        "    \"title\": \"ea molestias quasi exercitationem repellat qui ipsa sit aut\",\n",
        "    \"body\": \"et iusto sed quo iure\\nvoluptatem occaecati omnis eligendi aut ad\\nvoluptatem doloribus vel accusantium quis pariatur\\nmolestiae porro eius odio et labore et velit aut\"\n",
        "  }\n",
        "]\n"
      ],
      "metadata": {
        "id": "Per5yXJPN-mj"
      },
      "execution_count": 11,
      "outputs": []
    },
    {
      "cell_type": "code",
      "source": [
        "print(posts[0]['title'])"
      ],
      "metadata": {
        "colab": {
          "base_uri": "https://localhost:8080/"
        },
        "id": "MaGu-ukuOzne",
        "outputId": "87658b7e-34b6-4712-8be3-c1df165a5693"
      },
      "execution_count": 13,
      "outputs": [
        {
          "output_type": "stream",
          "name": "stdout",
          "text": [
            "sunt aut facere repellat provident occaecati excepturi optio reprehenderit\n"
          ]
        }
      ]
    },
    {
      "cell_type": "code",
      "source": [
        "print(\"Daftar Artikel\")\n",
        "for i,post in enumerate(posts):\n",
        "  print(f\"{i+1}.{post['title']}\")\n"
      ],
      "metadata": {
        "colab": {
          "base_uri": "https://localhost:8080/"
        },
        "id": "pirPsvJ_Peaq",
        "outputId": "be8e02d0-cca4-4272-d148-7ac3d6a22a81"
      },
      "execution_count": 20,
      "outputs": [
        {
          "output_type": "stream",
          "name": "stdout",
          "text": [
            "Daftar Artikel\n",
            "1.sunt aut facere repellat provident occaecati excepturi optio reprehenderit\n",
            "2.qui est esse\n",
            "3.ea molestias quasi exercitationem repellat qui ipsa sit aut\n"
          ]
        }
      ]
    },
    {
      "cell_type": "code",
      "source": [
        "nilai_hendri={\n",
        "    'semester1':[70,80,90,100],\n",
        "    'semester2':[80,90,90,90]\n",
        "}"
      ],
      "metadata": {
        "id": "EApU_eHDRHr-"
      },
      "execution_count": 23,
      "outputs": []
    },
    {
      "cell_type": "code",
      "source": [
        "nilai_hendri['semester1'][-1]"
      ],
      "metadata": {
        "colab": {
          "base_uri": "https://localhost:8080/"
        },
        "id": "FyMRjW4CRvBG",
        "outputId": "eb5f01d1-9b10-4f4c-da38-2d071f0c6b54"
      },
      "execution_count": 24,
      "outputs": [
        {
          "output_type": "execute_result",
          "data": {
            "text/plain": [
              "100"
            ]
          },
          "metadata": {},
          "execution_count": 24
        }
      ]
    },
    {
      "cell_type": "code",
      "source": [
        "#Hitung nilai akhir dari nilai hendri\n",
        "#nilai_akhir =20%*absen+20%*tugas+30%*uts+30%*uas\n",
        "def na(absen,tugas,uts,uas):\n",
        "  return (0.2*absen)+(0.2*tugas)+(0.30*uts)+(0.3*uas)\n",
        "\n",
        "def nilai_akhir(smt1,smt2):\n",
        "  return (smt1+smt2)/2\n",
        "\n",
        "na_smt1=na(nilai_hendri['semester1'][0],nilai_hendri['semester1'][1],nilai_hendri['semester1'][2],nilai_hendri['semester1'][3])\n",
        "na_smt2=na(nilai_hendri['semester2'][0],nilai_hendri['semester1'][1],nilai_hendri['semester1'][2],nilai_hendri['semester1'][3])\n",
        "\n",
        "na_hendri=nilai_akhir(na_smt1,na_smt2)\n",
        "\n",
        "print(f\"Nilai akhir Semester 1 adalah {na_smt1}\")\n",
        "print(f\"Nilai akhir Semester 2 adalah {na_smt2}\")\n",
        "print(f\"Nilai akhir Hendri  adalah {na_hendri}\")"
      ],
      "metadata": {
        "colab": {
          "base_uri": "https://localhost:8080/"
        },
        "id": "Su7qRm4hSTBk",
        "outputId": "13a4ed4a-2979-4e2e-a83b-3cd5ec0ad5ca"
      },
      "execution_count": 26,
      "outputs": [
        {
          "output_type": "stream",
          "name": "stdout",
          "text": [
            "Nilai akhir Semester 1 adalah 87.0\n",
            "Nilai akhir Semester 2 adalah 89.0\n",
            "Nilai akhir Hendri  adalah 88.0\n"
          ]
        }
      ]
    }
  ]
}